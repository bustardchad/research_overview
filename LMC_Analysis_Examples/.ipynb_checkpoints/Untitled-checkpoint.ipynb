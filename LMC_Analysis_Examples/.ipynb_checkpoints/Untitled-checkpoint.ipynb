{
 "cells": [
  {
   "cell_type": "markdown",
   "id": "arbitrary-cleanup",
   "metadata": {},
   "source": [
    "First, we are going to pull out the *ram pressure* acting on the LMC as it infalls through the Milky Way halo. The ram pressure acting on an object moving with velocity vector $\\bf{v}$ through a static background gas with density $\\rho$ is: \n",
    "\n",
    "(most basic) $P_{\\rm ram} = \\rho v_{\\rm infall}^{2}$\n",
    "\n",
    "This pressure counteracts the gravitational \"tension\" force of the galaxy to strip gas from the galaxy."
   ]
  },
  {
   "cell_type": "markdown",
   "id": "exterior-tennis",
   "metadata": {},
   "source": [
    "### Towards the *local* ram pressure in different regions of the LMC\n",
    "The above equation would describe the interaction between a galaxy and a headwind *if the velocity offset between the galaxy and headwind were constant across the disk*; however, to understand how ram pressure affects local star formation rates, local ion abundances, etc. we would like a more *local* description of ram pressure.\n",
    "\n",
    "To a first approximation, we can assume the LMC is a rotating disk infalling at an arbitrary inclination. We have to account for the fact that, from the perspective of the LMC, some parts of the disk are rotating *into* the headwind while others are rotating *away* from the headwind. Therefore, the velocity vector of interest is really $v_{\\rm infall} - v_{\\rm rot}$, where $v_{\\rm rot}(x_{\\rm LMC}, y_{\\rm LMC}) = (v_{\\rm rot,x}, v_{\\rm rot,y})$ is the rotation vector (in coordinates such that $\\hat{z}$ is along the axis of disk rotation, and $v_{\\rm infall} = (v_{x}, v_{y}, v_{z})$ is the infall velocity vector of the LMC \"as a whole\" motivated by observations and more complete simulations of the LMC's interaction (including it's complicated gravitational dance with it's neighboring SMC): \n",
    "\n",
    "(including rotation) ${\\bf P}_{\\rm ram}(x_{LMC}, y_{LMC}) = \\rho \\left((v_{x}-v_{rot,x})^{2}\\hat{x} + (v_{y}-v_{rot,y})^{2}\\hat{y} + v_{z}^{2}\\hat{z}\\right)$. \n",
    "\n",
    "Note that we've written the ram pressure as a vector and with dependence on LMC-centered coordinates $(x_{LMC}, y_{LMC})$ in the plane perpendicular to the disk axis of rotation. So to know the ram pressure impacting any point $(x_{LMC}, y_{LMC})$ across the disk, we need the following ingredients:\n",
    "\n",
    "    1. The density of the Milky Way halo at the current LMC location. \n",
    "    \n",
    "    2. The infall velocity vector -- really, a combination of the LMC's infall velocity and a sense of it's inclination during infall (you can imagine a disk \"slicing\" through the air vs a disk \"pancaking\" through the air).\n",
    "    \n",
    "    3. The rotation vector\n",
    "    \n",
    "In our paper, we more fully account for how, over the course of its infall, the LMC changes both its distance from the Milky Way (and therefore the increasing halo gas density it interacts with as it gets closer and closer to the Milky Way) and its inclination. \n",
    "\n",
    "It's not worth going into all the observational measurements that lead to estimates of the halo gas density, the infall velocity, etc. Just know that $\\rho$, $v_{x}$, $v_{y}$, $v_{z}$ are well-motivated but, of course, have some uncertainties.\n",
    "\n",
    "The rotation velocity can be calculated by assuming hydrostatic balance between the LMC's centrifugal force and gravitational force...that's how it is done in the Fortran-based FLASH simulations I created to model the LMC...but in the next cell, we'll just take the rotation velocity as a function of $r_{LMC}$ from Salem et al. 2015. \n",
    "\n",
    "An additional complexity we can account for is that galaxies are constantly expelling and accreting gas through the *disk-halo interface*, here the region between the LMC's disk and its surrounding *circumgalactic medium.* These gas flows are \"very\" challenging to model correctly (no model is ever correct, some are just closer to reality), but my own simulations (Bustard et al. 2020) are a first-of-their-kind attempt to model the supernova-driven galactic outflows from the LMC, connecting them to the temporally and spatially resolved star formation history that ultimately determines the time and locations of galactic outflow driving. Check out the .F90 file in this directory for the initial condition and boundary condition code (the FLASH code this is built on is proprietary, so that's all I can post on github).\n",
    "\n",
    "Generalizing $v_{\\rm rot}$ to $v_{\\rm local} = (v_{loc,x},v_{loc,y},v_{loc,z})$, which includes all velocity information relative to the frame of rest of the LMC, the full ram pressure can be estimated as \n",
    "\n",
    "(including local gas flows) ${\\bf P}_{\\rm ram}(x_{LMC}, y_{LMC}, z_{LMC}) = \\rho \\left((v_{x}-v_{loc,x})^{2}\\hat{x} + (v_{y}-v_{loc,y})^{2}\\hat{y} + (v_{z} - v_{loc,z})^{2}\\hat{z}\\right)$\n",
    "\n",
    "Note that, while rotation doesn't alter ram pressure in the $\\hat{z}$ direction, other gas flows surely can (and do) and therefore are included here. "
   ]
  }
 ],
 "metadata": {
  "kernelspec": {
   "display_name": "Python 3",
   "language": "python",
   "name": "python3"
  },
  "language_info": {
   "codemirror_mode": {
    "name": "ipython",
    "version": 3
   },
   "file_extension": ".py",
   "mimetype": "text/x-python",
   "name": "python",
   "nbconvert_exporter": "python",
   "pygments_lexer": "ipython3",
   "version": "3.8.5"
  }
 },
 "nbformat": 4,
 "nbformat_minor": 5
}
